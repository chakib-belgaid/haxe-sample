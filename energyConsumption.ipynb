{
 "cells": [
  {
   "cell_type": "code",
   "execution_count": 1,
   "metadata": {},
   "outputs": [],
   "source": [
    "import pymongo\n",
    "import math \n",
    "import re\n",
    "import pandas as pd\n",
    "# import numpy as np\n",
    "import pylab \n",
    "from matplotlib import pyplot as plt\n",
    "# from scipy import stats \n",
    "from  qgrid import show_grid as show \n",
    "from datetime import datetime\n",
    "import seaborn as sns\n",
    "\n",
    "class testCase(object): \n",
    "    \"\"\"in general its just the name of the machine where we launched the test \"\"\"\n",
    "    def __init__ (self , testname,database='rapls2',serveraddr='172.16.45.8',serverport=27017): \n",
    "        self._client = pymongo.MongoClient(serveraddr, serverport)\n",
    "        self._db=self._client[database]\n",
    "        self._testname=testname \n",
    "        self._sensors=self._db['sensor'+self._testname]\n",
    "        \n",
    "    def gettimetamps(self,containername): \n",
    "        containerdata=list(self._sensors.find({'target':containername},projection=['timestamp']))\n",
    "        begintime= containerdata[0]['timestamp']\n",
    "        endtime=containerdata[-1]['timestamp']\n",
    "        return begintime , endtime \n",
    "\n",
    "    def getpowers(self,containername): \n",
    "        #get the power consumption of the system  between begin and end \n",
    "        begin , end = self.gettimetamps(containername) \n",
    "        x=list(self._sensors.find({'target':'system','timestamp' :{'$gte':begin,'$lte':end}},projection=['rapl','timestamp']))\n",
    "        conso= pd.DataFrame(x)\n",
    "        sonde=next(iter(x[0]['rapl']['0']))\n",
    "        conso['power']=conso['rapl'].apply(lambda row :math.ldexp( row['0'][sonde]['RAPL_ENERGY_PKG'],-32))\n",
    "        return conso.loc[:,['timestamp','power']]\n",
    "\n",
    "    def getenergy(self,containername):\n",
    "        powers =self.getpowers(containername)\n",
    "        return powers['power'].sum()\n",
    "\n",
    "    def getrecap(self): \n",
    "        meausres = self._db['recap'+self._testname].find(projection={'_id': False,'id':False})\n",
    "        return pd.DataFrame(list(meausres))\n",
    "    \n",
    "\n",
    "\n"
   ]
  },
  {
   "cell_type": "markdown",
   "metadata": {},
   "source": [
    "# simple example"
   ]
  },
  {
   "cell_type": "code",
   "execution_count": 15,
   "metadata": {},
   "outputs": [],
   "source": [
    "#getting an instance of our machine \n",
    "machine= testCase('testhaxe3110219')\n"
   ]
  },
  {
   "cell_type": "code",
   "execution_count": 25,
   "metadata": {
    "scrolled": true
   },
   "outputs": [
    {
     "data": {
      "text/html": [
       "<div>\n",
       "<style scoped>\n",
       "    .dataframe tbody tr th:only-of-type {\n",
       "        vertical-align: middle;\n",
       "    }\n",
       "\n",
       "    .dataframe tbody tr th {\n",
       "        vertical-align: top;\n",
       "    }\n",
       "\n",
       "    .dataframe thead th {\n",
       "        text-align: right;\n",
       "    }\n",
       "</style>\n",
       "<table border=\"1\" class=\"dataframe\">\n",
       "  <thead>\n",
       "    <tr style=\"text-align: right;\">\n",
       "      <th></th>\n",
       "      <th>execution energy</th>\n",
       "      <th>execution time</th>\n",
       "      <th>name</th>\n",
       "      <th>warmup energy</th>\n",
       "      <th>warmup time</th>\n",
       "    </tr>\n",
       "  </thead>\n",
       "  <tbody>\n",
       "    <tr>\n",
       "      <th>0</th>\n",
       "      <td>1281.057373</td>\n",
       "      <td>43</td>\n",
       "      <td>haxetommticppintArithmetic50n0</td>\n",
       "      <td>0.000000</td>\n",
       "      <td>0</td>\n",
       "    </tr>\n",
       "    <tr>\n",
       "      <th>1</th>\n",
       "      <td>31258.072266</td>\n",
       "      <td>1003</td>\n",
       "      <td>haxetommtipythonintArithmetic50n0</td>\n",
       "      <td>3047.544067</td>\n",
       "      <td>101</td>\n",
       "    </tr>\n",
       "    <tr>\n",
       "      <th>2</th>\n",
       "      <td>793.356506</td>\n",
       "      <td>28</td>\n",
       "      <td>haxetommticsintArithmetic50n0</td>\n",
       "      <td>0.000000</td>\n",
       "      <td>0</td>\n",
       "    </tr>\n",
       "    <tr>\n",
       "      <th>3</th>\n",
       "      <td>761.949158</td>\n",
       "      <td>27</td>\n",
       "      <td>haxetommtijavaintArithmetic50n0</td>\n",
       "      <td>0.000000</td>\n",
       "      <td>0</td>\n",
       "    </tr>\n",
       "    <tr>\n",
       "      <th>4</th>\n",
       "      <td>806.177734</td>\n",
       "      <td>28</td>\n",
       "      <td>haxetommtijsintArithmetic50n0</td>\n",
       "      <td>0.000000</td>\n",
       "      <td>0</td>\n",
       "    </tr>\n",
       "    <tr>\n",
       "      <th>5</th>\n",
       "      <td>6601.046448</td>\n",
       "      <td>212</td>\n",
       "      <td>haxetommtiphpintArithmetic50n0</td>\n",
       "      <td>0.000000</td>\n",
       "      <td>0</td>\n",
       "    </tr>\n",
       "    <tr>\n",
       "      <th>6</th>\n",
       "      <td>32910.665955</td>\n",
       "      <td>1053</td>\n",
       "      <td>haxetommtiluaintArithmetic50n0</td>\n",
       "      <td>0.000000</td>\n",
       "      <td>0</td>\n",
       "    </tr>\n",
       "    <tr>\n",
       "      <th>7</th>\n",
       "      <td>18052.119690</td>\n",
       "      <td>559</td>\n",
       "      <td>haxetommtiinterpintArithmetic50n0</td>\n",
       "      <td>0.000000</td>\n",
       "      <td>0</td>\n",
       "    </tr>\n",
       "    <tr>\n",
       "      <th>8</th>\n",
       "      <td>757.086487</td>\n",
       "      <td>26</td>\n",
       "      <td>haxetommticppintArithmetic50n1</td>\n",
       "      <td>0.000000</td>\n",
       "      <td>0</td>\n",
       "    </tr>\n",
       "  </tbody>\n",
       "</table>\n",
       "</div>"
      ],
      "text/plain": [
       "   execution energy  execution time                               name  \\\n",
       "0       1281.057373              43     haxetommticppintArithmetic50n0   \n",
       "1      31258.072266            1003  haxetommtipythonintArithmetic50n0   \n",
       "2        793.356506              28      haxetommticsintArithmetic50n0   \n",
       "3        761.949158              27    haxetommtijavaintArithmetic50n0   \n",
       "4        806.177734              28      haxetommtijsintArithmetic50n0   \n",
       "5       6601.046448             212     haxetommtiphpintArithmetic50n0   \n",
       "6      32910.665955            1053     haxetommtiluaintArithmetic50n0   \n",
       "7      18052.119690             559  haxetommtiinterpintArithmetic50n0   \n",
       "8        757.086487              26     haxetommticppintArithmetic50n1   \n",
       "\n",
       "   warmup energy  warmup time  \n",
       "0       0.000000            0  \n",
       "1    3047.544067          101  \n",
       "2       0.000000            0  \n",
       "3       0.000000            0  \n",
       "4       0.000000            0  \n",
       "5       0.000000            0  \n",
       "6       0.000000            0  \n",
       "7       0.000000            0  \n",
       "8       0.000000            0  "
      ]
     },
     "execution_count": 25,
     "metadata": {},
     "output_type": "execute_result"
    }
   ],
   "source": [
    "#to print all the meausres done in this machine \n",
    "machine.getrecap()\n",
    "## this only used if you launched the test with tester.sh "
   ]
  },
  {
   "cell_type": "code",
   "execution_count": 38,
   "metadata": {},
   "outputs": [],
   "source": [
    "bench=\"intArithmetic\"\n",
    "measure='execution energy'\n",
    "\n",
    "egx = re.compile(bench+\".*\", re.IGNORECASE)\n",
    "data=machine.getrecap()\n",
    "data[\"implementation\"]= data[\"name\"].apply(lambda name:re.search('tommti(?P<name>.*)'+bench+'.*n', name).group(1))\n",
    "data[\"loop\"]=data[\"name\"].apply(lambda name:re.search('tommti.*'+bench+'(?P<a>.*)n', name).group(1))\n",
    "mystats=data[data['loop']=='50']\n",
    "mystats=mystats.sort_values(measure,ascending=True)\n",
    "# plt.subplots(nrows=1,ncols=1,figsize=(20, 15))\n",
    "# sns.set_palette(mystats20.get_palette())"
   ]
  },
  {
   "cell_type": "markdown",
   "metadata": {},
   "source": [
    "# Summary "
   ]
  },
  {
   "cell_type": "code",
   "execution_count": 50,
   "metadata": {},
   "outputs": [
    {
     "data": {
      "application/vnd.jupyter.widget-view+json": {
       "model_id": "8bcf9d5e74e042d8a361287a06193582",
       "version_major": 2,
       "version_minor": 0
      },
      "text/plain": [
       "QgridWidget(grid_options={'fullWidthRows': True, 'syncColumnCellResize': True, 'forceFitColumns': True, 'defau…"
      ]
     },
     "metadata": {},
     "output_type": "display_data"
    }
   ],
   "source": [
    "show(mystats.groupby('implementation').mean().sort_values(measure,ascending=True))"
   ]
  },
  {
   "cell_type": "markdown",
   "metadata": {},
   "source": [
    "# Barplot"
   ]
  },
  {
   "cell_type": "code",
   "execution_count": 65,
   "metadata": {},
   "outputs": [
    {
     "data": {
      "image/png": "[encoded data removed]",
      "text/plain": [
       "<Figure size 1080x720 with 1 Axes>"
      ]
     },
     "metadata": {},
     "output_type": "display_data"
    }
   ],
   "source": [
    "sns.set_style(\"whitegrid\")\n",
    "plt.subplots(nrows=1,ncols=1,figsize=(15, 10))\n",
    "ax= sns.barplot(y='implementation',x=measure,data=mystats,orient='h',order=list(mystats.groupby('implementation').mean().sort_values(measure,ascending=True).index))\n",
    "var=ax.set_title(bench,size=20)"
   ]
  },
  {
   "cell_type": "code",
   "execution_count": 64,
   "metadata": {},
   "outputs": [
    {
     "data": {
      "text/plain": [
       "['java', 'cs', 'js', 'cpp', 'php', 'interp', 'python', 'lua']"
      ]
     },
     "execution_count": 64,
     "metadata": {},
     "output_type": "execute_result"
    }
   ],
   "source": [
    "list(mystats.groupby('implementation').mean().sort_values(measure,ascending=True).index)"
   ]
  },
  {
   "cell_type": "code",
   "execution_count": null,
   "metadata": {},
   "outputs": [],
   "source": []
  }
 ],
 "metadata": {
  "kernelspec": {
   "display_name": "Python 3",
   "language": "python",
   "name": "python3"
  },
  "language_info": {
   "codemirror_mode": {
    "name": "ipython",
    "version": 3
   },
   "file_extension": ".py",
   "mimetype": "text/x-python",
   "name": "python",
   "nbconvert_exporter": "python",
   "pygments_lexer": "ipython3",
   "version": "3.6.6"
  }
 },
 "nbformat": 4,
 "nbformat_minor": 2
}
