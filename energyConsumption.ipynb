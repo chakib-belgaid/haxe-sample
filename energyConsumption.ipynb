{
 "cells": [
  {
   "cell_type": "code",
   "execution_count": 24,
   "metadata": {},
   "outputs": [],
   "source": [
    "import pymongo\n",
    "import math \n",
    "import re\n",
    "import pandas as pd\n",
    "# import numpy as np\n",
    "import pylab \n",
    "from matplotlib import pyplot as plt\n",
    "# from scipy import stats \n",
    "from  qgrid import show_grid as show \n",
    "from datetime import datetime\n",
    "import seaborn as sns\n",
    "\n",
    "class testCase(object): \n",
    "    \"\"\"in general its just the name of the machine where we launched the test \"\"\"\n",
    "    def __init__ (self , testname,database='rapls2',serveraddr='172.16.45.8',serverport=27017): \n",
    "        self._client = pymongo.MongoClient(serveraddr, serverport)\n",
    "        self._db=self._client[database]\n",
    "        self._testname=testname \n",
    "        self._sensors=self._db['sensor'+self._testname]\n",
    "        \n",
    "    def gettimetamps(self,containername): \n",
    "        containerdata=list(self._sensors.find({'target':containername},projection=['timestamp']))\n",
    "        begintime= containerdata[0]['timestamp']\n",
    "        endtime=containerdata[-1]['timestamp']\n",
    "        return begintime , endtime \n",
    "\n",
    "    def getpowers(self,containername): \n",
    "        #get the power consumption of the system  between begin and end \n",
    "        begin , end = self.gettimetamps(containername) \n",
    "        x=list(self._sensors.find({'target':'system','timestamp' :{'$gte':begin,'$lte':end}},projection=['rapl','timestamp']))\n",
    "        conso= pd.DataFrame(x)\n",
    "        sonde=next(iter(x[0]['rapl']['0']))\n",
    "        conso['power']=conso['rapl'].apply(lambda row :math.ldexp( row['0'][sonde]['RAPL_ENERGY_PKG'],-32))\n",
    "        return conso.loc[:,['timestamp','power']]\n",
    "\n",
    "    def getenergy(self,containername):\n",
    "        powers =self.getpowers(containername)\n",
    "        return powers['power'].sum()\n",
    "\n",
    "    def getrecap(self): \n",
    "        meausres = self._db['recap'+self._testname].find(projection={'_id': False,'id':False})\n",
    "        return pd.DataFrame(list(meausres))\n",
    "    \n",
    "\n",
    "\n"
   ]
  },
  {
   "cell_type": "markdown",
   "metadata": {},
   "source": [
    "# simple example"
   ]
  },
  {
   "cell_type": "code",
   "execution_count": 5,
   "metadata": {},
   "outputs": [],
   "source": [
    "#getting an instance of our machine \n",
    "machine= testCase('testhaxe280119')\n"
   ]
  },
  {
   "cell_type": "code",
   "execution_count": 15,
   "metadata": {
    "scrolled": true
   },
   "outputs": [
    {
     "data": {
      "text/html": [
       "<div>\n",
       "<style scoped>\n",
       "    .dataframe tbody tr th:only-of-type {\n",
       "        vertical-align: middle;\n",
       "    }\n",
       "\n",
       "    .dataframe tbody tr th {\n",
       "        vertical-align: top;\n",
       "    }\n",
       "\n",
       "    .dataframe thead th {\n",
       "        text-align: right;\n",
       "    }\n",
       "</style>\n",
       "<table border=\"1\" class=\"dataframe\">\n",
       "  <thead>\n",
       "    <tr style=\"text-align: right;\">\n",
       "      <th></th>\n",
       "      <th>execution energy</th>\n",
       "      <th>execution time</th>\n",
       "      <th>name</th>\n",
       "      <th>warmup energy</th>\n",
       "      <th>warmup time</th>\n",
       "    </tr>\n",
       "  </thead>\n",
       "  <tbody>\n",
       "    <tr>\n",
       "      <th>0</th>\n",
       "      <td>680.164124</td>\n",
       "      <td>17</td>\n",
       "      <td>haxetommticppintArithmetic50n0</td>\n",
       "      <td>0.0</td>\n",
       "      <td>0</td>\n",
       "    </tr>\n",
       "    <tr>\n",
       "      <th>1</th>\n",
       "      <td>36.464478</td>\n",
       "      <td>1</td>\n",
       "      <td>haxetommtipythnintArithmetic50n0</td>\n",
       "      <td>0.0</td>\n",
       "      <td>0</td>\n",
       "    </tr>\n",
       "    <tr>\n",
       "      <th>2</th>\n",
       "      <td>1396.423523</td>\n",
       "      <td>36</td>\n",
       "      <td>haxetommticsintArithmetic50n0</td>\n",
       "      <td>0.0</td>\n",
       "      <td>0</td>\n",
       "    </tr>\n",
       "    <tr>\n",
       "      <th>3</th>\n",
       "      <td>1394.282349</td>\n",
       "      <td>36</td>\n",
       "      <td>haxetommtijavaintArithmetic50n0</td>\n",
       "      <td>0.0</td>\n",
       "      <td>0</td>\n",
       "    </tr>\n",
       "    <tr>\n",
       "      <th>4</th>\n",
       "      <td>38.057556</td>\n",
       "      <td>1</td>\n",
       "      <td>haxetommtijsintArithmetic50n0</td>\n",
       "      <td>0.0</td>\n",
       "      <td>0</td>\n",
       "    </tr>\n",
       "    <tr>\n",
       "      <th>5</th>\n",
       "      <td>11058.670593</td>\n",
       "      <td>273</td>\n",
       "      <td>haxetommtiphpintArithmetic50n0</td>\n",
       "      <td>0.0</td>\n",
       "      <td>0</td>\n",
       "    </tr>\n",
       "  </tbody>\n",
       "</table>\n",
       "</div>"
      ],
      "text/plain": [
       "   execution energy  execution time                              name  \\\n",
       "0        680.164124              17    haxetommticppintArithmetic50n0   \n",
       "1         36.464478               1  haxetommtipythnintArithmetic50n0   \n",
       "2       1396.423523              36     haxetommticsintArithmetic50n0   \n",
       "3       1394.282349              36   haxetommtijavaintArithmetic50n0   \n",
       "4         38.057556               1     haxetommtijsintArithmetic50n0   \n",
       "5      11058.670593             273    haxetommtiphpintArithmetic50n0   \n",
       "\n",
       "   warmup energy  warmup time  \n",
       "0            0.0            0  \n",
       "1            0.0            0  \n",
       "2            0.0            0  \n",
       "3            0.0            0  \n",
       "4            0.0            0  \n",
       "5            0.0            0  "
      ]
     },
     "execution_count": 15,
     "metadata": {},
     "output_type": "execute_result"
    }
   ],
   "source": [
    "#to print all the meausres done in this machine \n",
    "machine.getrecap()\n",
    "## this only used if you launched the test with tester.sh "
   ]
  },
  {
   "cell_type": "code",
   "execution_count": 43,
   "metadata": {},
   "outputs": [],
   "source": [
    "bench=\"intArithmetic\"\n",
    "measure='execution energy'\n",
    "\n",
    "egx = re.compile(bench+\".*\", re.IGNORECASE)\n",
    "data=machine.getrecap()\n",
    "data[\"implementation\"]= data[\"name\"].apply(lambda name:re.search('tommti(?P<name>.*)'+bench+'.*n', name).group(1))\n",
    "data[\"loop\"]=data[\"name\"].apply(lambda name:re.search('tommti.*'+bench+'(?P<a>.*)n', name).group(1))\n",
    "mystats=data[data['loop']=='50']\n",
    "mystats=mystats.sort_values(measure,ascending=True)\n",
    "\n",
    "# plt.subplots(nrows=1,ncols=1,figsize=(20, 15))\n",
    "# sns.set_palette(mystats20.get_palette())"
   ]
  },
  {
   "cell_type": "markdown",
   "metadata": {},
   "source": [
    "# Summary "
   ]
  },
  {
   "cell_type": "code",
   "execution_count": 44,
   "metadata": {},
   "outputs": [
    {
     "data": {
      "application/vnd.jupyter.widget-view+json": {
       "model_id": "3efa30b22d8b4d67a40163e4bddc4039",
       "version_major": 2,
       "version_minor": 0
      },
      "text/plain": [
       "QgridWidget(grid_options={'fullWidthRows': True, 'syncColumnCellResize': True, 'forceFitColumns': True, 'defau…"
      ]
     },
     "metadata": {},
     "output_type": "display_data"
    }
   ],
   "source": [
    "show(mystats.groupby('implementation').mean())"
   ]
  },
  {
   "cell_type": "markdown",
   "metadata": {},
   "source": [
    "# Barplot"
   ]
  },
  {
   "cell_type": "code",
   "execution_count": 45,
   "metadata": {},
   "outputs": [
    {
     "data": {
      "image/png": "[encoded data removed]",
      "text/plain": [
       "<Figure size 1080x720 with 1 Axes>"
      ]
     },
     "metadata": {},
     "output_type": "display_data"
    }
   ],
   "source": [
    "plt.subplots(nrows=1,ncols=1,figsize=(15, 10))\n",
    "ax= sns.barplot(y='implementation',x=measure,data=mystats,hue='implementation',dodge=False,orient='h')\n",
    "var=ax.set_title(bench,size=20)"
   ]
  },
  {
   "cell_type": "code",
   "execution_count": null,
   "metadata": {},
   "outputs": [],
   "source": []
  }
 ],
 "metadata": {
  "kernelspec": {
   "display_name": "Python 3",
   "language": "python",
   "name": "python3"
  },
  "language_info": {
   "codemirror_mode": {
    "name": "ipython",
    "version": 3
   },
   "file_extension": ".py",
   "mimetype": "text/x-python",
   "name": "python",
   "nbconvert_exporter": "python",
   "pygments_lexer": "ipython3",
   "version": "3.6.6"
  }
 },
 "nbformat": 4,
 "nbformat_minor": 2
}
